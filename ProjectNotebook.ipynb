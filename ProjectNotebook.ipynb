{
 "cells": [
  {
   "cell_type": "markdown",
   "metadata": {},
   "source": [
    "# Project Description"
   ]
  },
  {
   "cell_type": "markdown",
   "metadata": {},
   "source": [
    "This program can send you email homework reminders if you specify what homework you have, when they are due, and when you want to be reminded to finish them. The time entered for due date or reminder date needs to follow the pattern in the instructions. For example, \"hr mm dd\" requires 3 numbers of length 2, and 00 06 13 translates to 00\\:00:00 06-13-current year; similarly, \"hr mi mm dd\" requires 4 numbers of length 2, and 17 46 06 11 translates to 17\\:46:00 06-11-current year. Currently, this program only supports entering hour based on a 24-hour scale (e.g. 5:00 pm should be entered as 17). To make sure the email is delivered at the time it should be delivered, you should not interrupt the program from running before the email is sent. After the email is sent, the console will print \"email sent\".\n",
    "\n",
    "### Expected terminal/console input and output:\n",
    "Which email address do you want the reminders to be sent from\\?cheeryprojecttesting@gmail.com<br>\n",
    "Which email address do you want to receive your reminders\\?cheeryone821@gmail.com<br>\n",
    "What homework do you have? (Enter Done if you don't have any homework to enter)Python project<br>\n",
    "When is the deadline for this homework? (hr mm dd)00 06 13<br>\n",
    "When do you want to be reminded of doing this homework? (hr mi mm dd)17 46 06 11<br>\n",
    "What homework do you have? (Enter Done if you don't have any homework to enter)cse 130<br>\n",
    "When is the deadline for this homework? (hr mm dd)00 06 14<br>\n",
    "When do you want to be reminded of doing this homework? (hr mi mm dd)17 47 06 11<br>\n",
    "What homework do you have? (Enter Done if you don't have any homework to enter)Done<br>\n",
    "Type your password and press enter: XXXXXXXXXXXXXXXX<br>\n",
    "email sent<br>\n",
    "email sent<br>\n",
    "\n",
    "### References\n",
    "Basic email sending:<br>\n",
    "https://realpython.com/python-send-email/#getting-started \"Sending Plain-Text Email\" part<br>\n",
    "Timed email sending:<br>\n",
    "https://stackoverflow.com/questions/2031111/in-python-how-can-i-put-a-thread-to-sleep-until-a-specific-time<br>\n",
    "Customized sorting:<br>\n",
    "https://stackoverflow.com/questions/4554115/sorting-tuples-in-python-with-a-custom-key"
   ]
  },
  {
   "cell_type": "markdown",
   "metadata": {},
   "source": [
    "## Project Code\n",
    "\n",
    "If it makes sense for your project, you can have code and outputs here in the notebook as well."
   ]
  },
  {
   "cell_type": "code",
   "execution_count": 4,
   "metadata": {},
   "outputs": [],
   "source": [
    "# This adds the directory above to our Python path\n",
    "# This is so that we can add import our custom python module code into this script\n",
    "import sys\n",
    "sys.path.append('../')\n",
    "\n",
    "# Imports\n",
    "import datetime as dt\n",
    "from my_module.functions import send_email, send_timed_email"
   ]
  },
  {
   "cell_type": "code",
   "execution_count": null,
   "metadata": {},
   "outputs": [],
   "source": [
    "# Do a bunch of things.\n",
    "sender = input(\"Which email address do you want the reminders to be sent from?\")\n",
    "receiver = input(\"Which email address do you want to receive your reminders?\")\n",
    "\n",
    "hws = [ ] # List of homework\n",
    "t = dt.datetime.today()\n",
    "\n",
    "# Keep reading in user input until user indicates \"Done\"\n",
    "while True:\n",
    "    hw = input(\"What homework do you have? \" + \n",
    "         \"(Enter Done if you don't have any homework to enter)\")\n",
    "    if hw == \"Done\":\n",
    "        break\n",
    "\n",
    "    ddl = input(\"When is the deadline for this homework? (hr mm dd)\")\n",
    "    ddl_h = int(ddl[0:2])\n",
    "    ddl_m = int(ddl[3:5])\n",
    "    ddl_d = int(ddl[6:8])\n",
    "    ddl_dt = t\n",
    "    try:\n",
    "        if ddl_m < t.month:\n",
    "            t.year += 1 # handling due dates that are on the next year\n",
    "        ddl_dt = dt.datetime(t.year, ddl_m, ddl_d, ddl_h)\n",
    "    except TypeError:\n",
    "        print(\"Please enter integers as hour, month, day\")\n",
    "    except ValueError:\n",
    "        print(\"Please enter valid values for \" + \n",
    "              \"hour(00-23), month(01-12), day(01-31)\")\n",
    "    \n",
    "    date = input(\"When do you want to be reminded of doing this homework?\" + \n",
    "                 \" (hr mi mm dd)\")\n",
    "    date_h = int(date[0:2])\n",
    "    date_min = int(date[3:5])\n",
    "    date_m = int(date[6:8])\n",
    "    date_d = int(date[9:11])\n",
    "    date_dt = t\n",
    "    try:\n",
    "        if date_m < t.month:\n",
    "            t.year += 1 # handling reminder dates that are on the next year\n",
    "        date_dt = dt.datetime(t.year, date_m, date_d, date_h, date_min)\n",
    "    except TypeError:\n",
    "        print(\"Please enter integers as hour, month, day\")\n",
    "    except ValueError:\n",
    "        print(\"Please enter valid values for hour(00-23), month(01-12), day(01-31)\")\n",
    "        \n",
    "    hws.append(tuple((hw, ddl_dt, date_dt)))\n",
    "\n",
    "password = input(\"Type your password and press enter: \")\n",
    "send_timed_email(password, sender, receiver, hws)"
   ]
  }
 ],
 "metadata": {
  "kernelspec": {
   "display_name": "Python 3",
   "language": "python",
   "name": "python3"
  },
  "language_info": {
   "codemirror_mode": {
    "name": "ipython",
    "version": 3
   },
   "file_extension": ".py",
   "mimetype": "text/x-python",
   "name": "python",
   "nbconvert_exporter": "python",
   "pygments_lexer": "ipython3",
   "version": "3.6.8"
  }
 },
 "nbformat": 4,
 "nbformat_minor": 2
}
